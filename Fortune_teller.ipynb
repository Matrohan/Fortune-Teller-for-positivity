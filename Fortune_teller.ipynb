{
 "cells": [
  {
   "cell_type": "code",
   "execution_count": 1,
   "metadata": {},
   "outputs": [],
   "source": [
    "import random"
   ]
  },
  {
   "cell_type": "code",
   "execution_count": 2,
   "metadata": {},
   "outputs": [],
   "source": [
    "def fortune(num):\n",
    "    if num == 1:\n",
    "        return 'God loves you!'\n",
    "    elif num == 2:\n",
    "        return 'Do not be afraid'\n",
    "    elif num == 3:\n",
    "        return 'Trust yourself'\n",
    "    elif num == 4:\n",
    "        return 'You are worthy'\n",
    "    elif num == 5:\n",
    "        return 'Love yourself more'\n",
    "    elif num == 6:\n",
    "        return 'This too shall pass'\n",
    "    elif num == 7:\n",
    "        return 'Close everything and sleep or take bath'\n",
    "    elif num == 8:\n",
    "        return 'Go for a walk'\n",
    "    elif num == 9:\n",
    "        return 'Watch your fav movie or series or talk to someone you like'\n",
    "    elif num == 10:\n",
    "        return 'Go eat from that shop that u love'\n",
    "\n"
   ]
  },
  {
   "cell_type": "code",
   "execution_count": 10,
   "metadata": {},
   "outputs": [
    {
     "data": {
      "text/plain": [
       "'Close everything and sleep or take a bath'"
      ]
     },
     "execution_count": 10,
     "metadata": {},
     "output_type": "execute_result"
    }
   ],
   "source": [
    "r = random.randint(1,10)\n",
    "fortune(r)\n"
   ]
  }
 ],
 "metadata": {
  "kernelspec": {
   "display_name": "Python 3",
   "language": "python",
   "name": "python3"
  },
  "language_info": {
   "codemirror_mode": {
    "name": "ipython",
    "version": 3
   },
   "file_extension": ".py",
   "mimetype": "text/x-python",
   "name": "python",
   "nbconvert_exporter": "python",
   "pygments_lexer": "ipython3",
   "version": "3.12.4"
  }
 },
 "nbformat": 4,
 "nbformat_minor": 2
}
